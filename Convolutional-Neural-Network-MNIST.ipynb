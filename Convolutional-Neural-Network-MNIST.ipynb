{
 "cells": [
  {
   "cell_type": "markdown",
   "metadata": {},
   "source": [
    "![](https://raw.githubusercontent.com/whoisraibolt/Convolutional-Neural-Network-MNIST/master/images/Alexandra-Raibolt-Avatar.png)"
   ]
  },
  {
   "cell_type": "markdown",
   "metadata": {},
   "source": [
    "<div style=\"text-align:center\">\n",
    "**ALEXANDRA RAIBOLT**\n",
    "</div>"
   ]
  },
  {
   "cell_type": "markdown",
   "metadata": {},
   "source": [
    "<div style=\"text-align:center\">\n",
    "MSc Student @ IME​ and​ BI & Data Management @ Firjan\n",
    "</div>"
   ]
  },
  {
   "cell_type": "markdown",
   "metadata": {},
   "source": [
    "# Construa sua própria Rede Neural Convolucional em 3, 2, 1...!"
   ]
  },
  {
   "cell_type": "markdown",
   "metadata": {},
   "source": [
    "<div style=\"text-align:justify\">Uma introdução as Redes Neurais Convolucionais em Python, usando o framework TensorFlow com Keras.</div>"
   ]
  },
  {
   "cell_type": "markdown",
   "metadata": {},
   "source": [
    "## Visão Geral"
   ]
  },
  {
   "cell_type": "markdown",
   "metadata": {},
   "source": [
    "<div style=\"text-align:justify\">Este Jupyter Notebook mostra passo a passo, o processo de construção de uma Rede Neural Convolucional para reconhecimento e clasificação de Dígitos Manuscritos em Python, usando o framework TensorFlow com Keras.</div>\n",
    "<br>\n",
    "<div style=\"text-align:justify\">Neste exemplo, usamos o conjunto de dados [MNIST](http://yann.lecun.com/exdb/mnist \"MNIST\").</div>\n",
    "<br>\n",
    "<div style=\"text-align:justify\">**Aviso prévio:**</div>\n",
    "<br>\n",
    "<div style=\"text-align:justify\">O modelo de Redes Neurais Convolucional proposto nesta palestra foi implementado em Python (versão 5.4.0) usando o framework TensorFlow (versão 1.4.0) com Keras (versão 2.2.4) usando uma arquitetura baseada em GPU, e pode não funcionar com outras versões.</div>"
   ]
  },
  {
   "cell_type": "markdown",
   "metadata": {},
   "source": [
    "## Requisitos"
   ]
  },
  {
   "cell_type": "markdown",
   "metadata": {},
   "source": [
    "- Python 3 (versão 5.4.0);\n",
    "- TensorFlow (versão 1.4.0);\n",
    "- Keras (versão 2.2.4);\n",
    "- Jupyter Notebook (versão 4.4.0)."
   ]
  },
  {
   "cell_type": "markdown",
   "metadata": {},
   "source": [
    "## Dependências"
   ]
  },
  {
   "cell_type": "markdown",
   "metadata": {},
   "source": [
    "- matplotlib;\n",
    "- numpy.\n",
    "\n",
    "<div style=\"text-align:justify\">Você pode instalar dependências ausentes com [pip](https://pip.pypa.io/en/stable \"pip\"). E instalar o TensorFlow via [TensorFlow](https://www.tensorflow.org/install \"TensorFlow\") link.</div>"
   ]
  },
  {
   "cell_type": "markdown",
   "metadata": {},
   "source": [
    "## O que é Aprendizado de Máquina?"
   ]
  },
  {
   "cell_type": "markdown",
   "metadata": {},
   "source": [
    "<div style=\"text-align:justify\">Aprendizado de Máquina (em inglês, *Machine Learning*) é uma subárea da Inteligencia Artifical que tem como propósito automatizar máquinas através da criação de modelos analíticos. Tal ideia se baseia na premissa de que máquinas tem a habilidade de aprender, tomar decisões, extrair *insights* e reconhecer padrões (através de dados) sem a necessidade de serem explicitamente programadas, ou seja, sem interferência humana.</div>"
   ]
  },
  {
   "cell_type": "markdown",
   "metadata": {},
   "source": [
    "## Tipos de Aprendizado de Máquina:"
   ]
  },
  {
   "cell_type": "markdown",
   "metadata": {},
   "source": [
    "![Tipos de Aprendizado de Maquina](https://raw.githubusercontent.com/whoisraibolt/MNIST-Convolutional-Neural-Network/master/images/Tipos-de-Aprendizado-de-Maquina.png)"
   ]
  },
  {
   "cell_type": "markdown",
   "metadata": {},
   "source": [
    "# Aprendizado Supervisionado:"
   ]
  },
  {
   "cell_type": "markdown",
   "metadata": {},
   "source": [
    "<div style=\"text-align:justify\">Um conjunto de dados de entradas e suas respectivas saídas desejadas (denominadas como classes) são fornecidas por um “professor” ao modelo/computador, mostrando que há relação entre os dados de entrada e de saída.</div>\n",
    "<br>\n",
    "<div style=\"text-align:justify\">O objetivo deste tipo de aprendizado está em mapear as entradas para as suas respectivas saídas desejadas ao encontrar uma regra geral que seja apta a classificar novos dados entre as classes já presentes no conjunto de dados.</div>"
   ]
  },
  {
   "cell_type": "markdown",
   "metadata": {},
   "source": [
    "## Classificação:"
   ]
  },
  {
   "cell_type": "markdown",
   "metadata": {},
   "source": [
    "<div style=\"text-align:justify\">Em uma tarefa de classificação, o objetivo é mapear os tipos de entradas e categoriza-las em classes distintas, ou seja, realiza previsões onde os resultados de saída são de natureza discreta.</div>\n",
    "<br>\n",
    "<div style=\"text-align:justify\">Algoritmos de classificação podem ser usados para problemas como: classificação de gênero, classificação de imagens médicas, classificação de expressões faciais, etc.</div>\n",
    "<br>\n",
    "<div style=\"text-align:justify\">K-vizinhos mais próximos, Máquinas de Vetores de Suporte e Redes Neurais Convolucionais são exemplos de algoritmos de classificação.</div>"
   ]
  },
  {
   "cell_type": "markdown",
   "metadata": {},
   "source": [
    "## O que é Rede Neural Artificial?"
   ]
  },
  {
   "cell_type": "markdown",
   "metadata": {},
   "source": [
    "<div style=\"text-align:justify\">Tendo como exemplo, a identificação de objetos e ambientes distintos, é questionado como o cérebro humano é capaz de traduzir uma imagem na retina humana para algo onde um indivíduo consiga identificar e classificar.</div>\n",
    "<br>\n",
    "<div style=\"text-align:justify\">Compreendendo toda a complexidade do cérebro humano, tornou-se necessário o estudo e compreensão de como os sistemas neurais biológicos funcionam, e a partir de tais estudos, pesquisadores foram capazes de proporcionar a estrutura básica para a construção de modelos de Redes Neurais Artificiais (em inglês, *Artificial Neural Networks - ANN*).</div>\n",
    "<br>\n",
    "<div style=\"text-align:justify\"></div>"
   ]
  },
  {
   "cell_type": "markdown",
   "metadata": {},
   "source": [
    "## O que é Rede Neural Convolucional?"
   ]
  },
  {
   "cell_type": "markdown",
   "metadata": {},
   "source": [
    "<div style=\"text-align:justify\">As diversas arquiteturas de Redes Neurais Convolucionais são aplicadas com sucesso em desafios de reconhecimentoe classificação de imagens, embora sejam também utilizadas em processamento de vídeo, e Processamento de Linguagem Natural (em inglês, *Natural Language Processing*).</div>\n",
    "<br>\n",
    "<div style=\"text-align:justify\">Uma Rede Neural Convolucional pode ser caracterizada como sendo uma ANN de múltiplas camadas onde primariamente faz-se a suposição de que os dados de entrada sejam imagens.</div>\n",
    "<br>\n",
    "<div style=\"text-align:justify\">As Redes Neurais Convolucionais hoje, são consideradas estado-da-arte para a resolução de problemas na área de Visão Computacional, possuindo uma variedade de modelos e de arquiteturas (AlexNet, Inception, ResNet, etc.)</div>\n",
    "<br>\n",
    "<div style=\"text-align:justify\">Uma arquitetura básica de CNN pode ser dividida em camadas.</div>"
   ]
  },
  {
   "cell_type": "markdown",
   "metadata": {},
   "source": [
    "## Arquitetura de uma Rede Neural Convolucional"
   ]
  },
  {
   "cell_type": "markdown",
   "metadata": {},
   "source": [
    "![Arquitetura de uma Rede Neural Convolucional](https://raw.githubusercontent.com/whoisraibolt/Convolutional-Neural-Network-MNIST/master/images/Arquitetura-CNN.png)"
   ]
  },
  {
   "cell_type": "markdown",
   "metadata": {},
   "source": [
    "## Camada de Entrada (ou em inglês, Input Layer)"
   ]
  },
  {
   "cell_type": "markdown",
   "metadata": {},
   "source": [
    "<div style=\"text-align:justify\">Onde a imagem (ou base de imagens) é inserida na rede.</div>\n",
    "<br>\n",
    "<div style=\"text-align:justify\">Computacionalmente falando, toda imagem pode ser representada como sendo uma matriz de valores de pixel, como pode ser visto abaixo:</div>"
   ]
  },
  {
   "cell_type": "markdown",
   "metadata": {},
   "source": [
    "![Camada de Entrada](https://raw.githubusercontent.com/whoisraibolt/Convolutional-Neural-Network-MNIST/master/images/Camada-de-Entrada.png)"
   ]
  },
  {
   "cell_type": "markdown",
   "metadata": {},
   "source": [
    "<div style=\"text-align:justify\">Portanto, ao receber uma imagem em escala de cinza como entrada, o computador \"enxergará\" uma matriz de valores de pixel (*m* x *n* x *1*), onde o valor 1 refere-se a um componente pré-estabelecido de uma imagem – Canal - neste caso o valor 1 refere-se a uma imagem em escala de cinza. Portanto, será atribuído valores de intensidade de pixels dentro do intervalode 0 à 255 (onde 0 representa pontos pretos e 255 representa pontos brancos) para cada ponto da matriz.</div>"
   ]
  },
  {
   "cell_type": "markdown",
   "metadata": {},
   "source": [
    "## Mãos a obra!"
   ]
  },
  {
   "cell_type": "code",
   "execution_count": 1,
   "metadata": {},
   "outputs": [
    {
     "name": "stderr",
     "output_type": "stream",
     "text": [
      "Using TensorFlow backend.\n"
     ]
    }
   ],
   "source": [
    "# Imports\n",
    "from keras.datasets import mnist\n",
    "from keras.layers import Conv2D, MaxPooling2D\n",
    "from keras.layers import Dense, Dropout, Flatten\n",
    "from keras.models import Sequential\n",
    "from keras.optimizers import Adam\n",
    "import keras\n",
    "import matplotlib.pyplot as plt\n",
    "import numpy as np"
   ]
  },
  {
   "cell_type": "code",
   "execution_count": 2,
   "metadata": {},
   "outputs": [],
   "source": [
    "# Dimensions of the data\n",
    "\n",
    "# We know that images are 28 pixels in each dimension\n",
    "in_height = 28\n",
    "in_width = 28\n",
    "\n",
    "# Tuple with height and width of images used to reshape arrays\n",
    "image_shape = (in_height, in_width)\n",
    "\n",
    "# We know MNIST has 60.000 training set images\n",
    "num_data_train_images = 60000\n",
    "\n",
    "# We know MNIST has 10.000 training set images\n",
    "num_data_test_images = 10000\n",
    "\n",
    "# Classes info\n",
    "classes = ['0', '1', '2', '3', '4', '5', '6', '7', '8', '9']\n",
    "\n",
    "# Number of classes\n",
    "num_classes = len(classes)\n",
    "\n",
    "# Number of colour channels for the images: 1 channel for gray-scale\n",
    "# Channels mean number of primary colors\n",
    "num_channels = 1"
   ]
  },
  {
   "cell_type": "code",
   "execution_count": 3,
   "metadata": {},
   "outputs": [],
   "source": [
    "# Load Dataset\n",
    "\n",
    "# The data, split between train and test sets\n",
    "# The datasets are 3D arrays: (batch, height, width)\n",
    "# Returns the values of the function for images_set, labels_set on train-set\n",
    "# Returns the values of the function for images_set, labels_set on test-set\n",
    "(data_train_images, data_train_labels), (data_test_images, data_test_labels) = mnist.load_data()\n",
    "\n",
    "# Our CNN accepts only 4D arrays: (batch, height, width, channels)\n",
    "\n",
    "# Reshape data_train_images \n",
    "data_train_images = data_train_images.reshape(num_data_train_images, in_height, in_width, num_channels)\n",
    "\n",
    "# Reshape data_test_images\n",
    "data_test_images = data_test_images.reshape(num_data_test_images, in_height, in_width, num_channels)"
   ]
  },
  {
   "cell_type": "code",
   "execution_count": 4,
   "metadata": {},
   "outputs": [
    {
     "name": "stdout",
     "output_type": "stream",
     "text": [
      "Size of:\n",
      "- Training-set:\t\t60000\n",
      "- Test-set:\t\t10000\n"
     ]
    }
   ],
   "source": [
    "print(\"Size of:\")\n",
    "print(\"- Training-set:\\t\\t{}\".format(len(data_train_images)))\n",
    "print(\"- Test-set:\\t\\t{}\".format(len(data_test_images)))"
   ]
  },
  {
   "cell_type": "markdown",
   "metadata": {},
   "source": [
    "## Codificação One-Hot"
   ]
  },
  {
   "cell_type": "markdown",
   "metadata": {},
   "source": [
    "<div style=\"text-align:justify\">As classes que representam os dez digitos manuscritos são representados por valores numéricos.</div>\n",
    "<br>\n",
    "<div style=\"text-align:justify\">Utilizar valores numéricos para representar rótulos categóricos em algoritmos de ML não é considerado como sendo uma boa prática, pois é possível que estes valores gerados possam prejudicar e influenciar a efetividade do algoritmo através do processo de aprendizado.</div>\n",
    "<br>\n",
    "<div style=\"text-align:justify\">Na presença desta restrição, convertemos os valores numéricos que representam os rótulos categóricos (tanto os valores numéricos do conjunto de treinamento quanto os valores numéricos do conjunto de teste) para vetores binários que representam cada um dos valores numéricos, através da codificação One-Hot.</div>\n",
    "<br>\n",
    "<div style=\"text-align:justify\">A codificação One-Hot é uma codificação de estados que consiste em gerar $ n $ vetores binários para $ n $ valores numéricos que representam cada um dos rótulos categóricos. Deste modo, One-Hot realiza a codificação para cada estado, de forma que cada valor numérico seja representado por um único vetor binário de tamanho $ n $ igual a quantidade de classes presentes no conjunto de dados.</div>\n",
    "<br>\n",
    "<div style=\"text-align:justify\">Por exemplo: a saída $ 8 $, de acordo com a codificação One-Hot seria: $ [0, 0, 0, 0, 0, 0, 0, 0, 1, 0] $</div>"
   ]
  },
  {
   "cell_type": "code",
   "execution_count": 5,
   "metadata": {},
   "outputs": [
    {
     "name": "stdout",
     "output_type": "stream",
     "text": [
      "[7 2 1 ..., 4 5 6]\n"
     ]
    }
   ],
   "source": [
    "# Class labels are One-Hot coded, meaning that each label is a vector with 10 elements,\n",
    "# all of which are zero except one element\n",
    "data_train_labels = keras.utils.to_categorical(data_train_labels, num_classes)\n",
    "data_test_labels = keras.utils.to_categorical(data_test_labels, num_classes)\n",
    "\n",
    "data_test_cls = np.argmax(data_test_labels, axis=1)\n",
    "\n",
    "print(data_test_cls)"
   ]
  },
  {
   "cell_type": "code",
   "execution_count": 6,
   "metadata": {},
   "outputs": [],
   "source": [
    "# Helper-function for catch the class\n",
    "# number and print its corresponding name\n",
    "def get_number(num_class):\n",
    "    if num_class == 0:\n",
    "        return 'Zero'\n",
    "    elif num_class == 1:\n",
    "        return 'One'\n",
    "    elif num_class == 2:\n",
    "        return 'Two'\n",
    "    elif num_class == 3:\n",
    "        return 'Three'\n",
    "    elif num_class == 4:\n",
    "        return 'Four'\n",
    "    elif num_class == 5:\n",
    "        return 'Five'\n",
    "    elif num_class == 6:\n",
    "        return 'Six'\n",
    "    elif num_class == 7:\n",
    "        return 'Seven'\n",
    "    elif num_class == 8:\n",
    "        return 'Eight'\n",
    "    elif num_class == 9:\n",
    "        return 'Nine'"
   ]
  },
  {
   "cell_type": "code",
   "execution_count": 7,
   "metadata": {},
   "outputs": [],
   "source": [
    "# Helper-function for plotting images\n",
    "def plot_images(images, cls_true, cls_pred=None):\n",
    "    assert len(images) == len(cls_true) == 9\n",
    "    \n",
    "    # Create figure with 3x3 sub-plots\n",
    "    fig, axes = plt.subplots(3, 3)\n",
    "    fig.subplots_adjust(hspace=0.3, wspace=0.3)\n",
    "\n",
    "    for i, ax in enumerate(axes.flat):\n",
    "        # Plot image\n",
    "        ax.imshow(images[i].reshape(image_shape), cmap='gray')\n",
    "\n",
    "        # Show true and predicted classes\n",
    "        # T = True, and P = Predicted\n",
    "        if cls_pred is None:\n",
    "            xlabel = \"T: {0}\".format(get_number(cls_true[i]))\n",
    "        else:\n",
    "            xlabel = \"T: {0}, P: {1}\".format(get_number(cls_true[i]), get_number(cls_pred[i]))\n",
    "\n",
    "        # Show the classes as the label on the x-axis\n",
    "        ax.set_xlabel(xlabel)\n",
    "        \n",
    "        # Remove ticks from the plot\n",
    "        ax.set_xticks([])\n",
    "        ax.set_yticks([])\n",
    "    \n",
    "    plt.show()"
   ]
  },
  {
   "cell_type": "code",
   "execution_count": 8,
   "metadata": {},
   "outputs": [
    {
     "data": {
      "image/png": "[encoded data removed]",
      "text/plain": [
       "<matplotlib.figure.Figure at 0x7f3f03fd3128>"
      ]
     },
     "metadata": {},
     "output_type": "display_data"
    }
   ],
   "source": [
    "# Plot a few images to see if data is correct\n",
    "\n",
    "# Get the first images from the test-set\n",
    "images = data_test_images[0:9]\n",
    "\n",
    "# Get the true classes for those images\n",
    "cls_true = data_test_cls[0:9]\n",
    "\n",
    "# Plot the images and labels using our helper-function above\n",
    "plot_images(images=images, cls_true=cls_true)"
   ]
  },
  {
   "cell_type": "code",
   "execution_count": 9,
   "metadata": {},
   "outputs": [],
   "source": [
    "# We build a sequential model\n",
    "# The Sequential model is a linear stack of layers\n",
    "model = Sequential()"
   ]
  },
  {
   "cell_type": "markdown",
   "metadata": {},
   "source": [
    "## Camada de Convolução (ou em inglês, Convolutional Layer)"
   ]
  },
  {
   "cell_type": "markdown",
   "metadata": {},
   "source": [
    "<div style=\"text-align:justify\">É a principal operação que ocorre nas imagens inseridas na rede, e seu principal objetivo está em extrair recursos de imagens de entrada.<br>\n",
    "    \n",
    "<div style=\"text-align:justify\">Uma imagem $ g $ é gerada pela convolução de um filtro $ f $ (comumente conhecido na literatura em inglês como kernel) com a imagem de entrada idefinida pela equação abaixo:<br>"
   ]
  },
  {
   "cell_type": "markdown",
   "metadata": {},
   "source": [
    "$$ g(m,n)=\\sum_{i=1}^{q}\\sum_{j=1}^{q}f(i,j)I(m-i,n-j) $$"
   ]
  },
  {
   "cell_type": "markdown",
   "metadata": {},
   "source": [
    "<div style=\"text-align:justify\">onde $ q $ é a dimensão da máscara de convolução.</div>"
   ]
  },
  {
   "cell_type": "markdown",
   "metadata": {},
   "source": [
    "![Convolução GIF](https://raw.githubusercontent.com/whoisraibolt/Convolutional-Neural-Network-MNIST/master/images/Convolucao-GIF.gif)"
   ]
  },
  {
   "cell_type": "markdown",
   "metadata": {},
   "source": [
    "<div style=\"text-align:justify\">Um filtro pode ressaltar determinada característica presente em uma imagem, como por exemplo, sombras, bordas, entre outros.</div>\n",
    "<br>\n",
    "<div style=\"text-align:justify\">A Figura abaixo apresenta o resultado de uma convolução aplicada a uma imagem de entrada.</div>"
   ]
  },
  {
   "cell_type": "markdown",
   "metadata": {},
   "source": [
    "![Resultado Convolucao](https://raw.githubusercontent.com/whoisraibolt/Convolutional-Neural-Network-MNIST/master/images/Resultado-Convolucao.png)"
   ]
  },
  {
   "cell_type": "markdown",
   "metadata": {},
   "source": [
    "<div style=\"text-align:justify\">Onde o resultado da convolução é comumente conhecido como um mapa de recursos (em inglês,feature maps), e onde o filtro convolucional $ f $ utilizado foi uma matriz de tamanho $ 3x3 $ como na representação a seguir:</div>"
   ]
  },
  {
   "cell_type": "markdown",
   "metadata": {},
   "source": [
    "\\begin{equation}\n",
    "\\label{equation:kernel}\n",
    "f = \\begin{bmatrix}\n",
    "1 &0   &0 \\\\ \n",
    "0 &-1  &0 \\\\ \n",
    "0 &0   &0 \n",
    "\\end{bmatrix}  \n",
    "\\end{equation}"
   ]
  },
  {
   "cell_type": "markdown",
   "metadata": {},
   "source": [
    "## Camada  ReLU (ou em inglês, ReLU Layer)"
   ]
  },
  {
   "cell_type": "markdown",
   "metadata": {},
   "source": [
    "<div style=\"text-align:justify\">É utilizada para que a rede possa convergir mais rápido, aplica para as camadas escondidas da rede uma função de ativação não linear à saída $ x $ da camada anterior, como abaixo:</div>"
   ]
  },
  {
   "cell_type": "markdown",
   "metadata": {},
   "source": [
    "\\begin{equation}\n",
    "\\label{equation:relu}\n",
    "f(x) = max(0, x)\n",
    "\\end{equation}"
   ]
  },
  {
   "cell_type": "markdown",
   "metadata": {},
   "source": [
    "<div style=\"text-align:justify\">Portanto, a saída será $ 0 $ quando a entrada for menor que $ 0 (x < 0) $, ou a saída será $ 1 $ caso contrário. Desta forma a ativação é limitada exclusivamente a $ 0 $, logo, a função de ativação ReLU contribui em uma etapa de treinamento da rede mais rápida para arquiteturas profundas</div>"
   ]
  },
  {
   "cell_type": "code",
   "execution_count": 10,
   "metadata": {},
   "outputs": [],
   "source": [
    "# Convolutional Layer 1\n",
    "\n",
    "# Convolution filters are 3 x 3 pixels\n",
    "filter_height_1 = 3\n",
    "filter_width_1 = 3\n",
    "\n",
    "# There are 8 of these filters\n",
    "num_filters_1 = 32\n",
    "\n",
    "# Convolutional Layer 2\n",
    "\n",
    "# Convolution filters are 3 x 3 pixels\n",
    "filter_height_2 = 3\n",
    "filter_width_2 = 3\n",
    "\n",
    "# There are 16 of these filters\n",
    "num_filters_2 = 64"
   ]
  },
  {
   "cell_type": "code",
   "execution_count": 11,
   "metadata": {},
   "outputs": [],
   "source": [
    "# Convolutional Layer 1\n",
    "model.add(Conv2D(filters=num_filters_1,\n",
    "                 kernel_size=(filter_height_1, filter_width_1),\n",
    "                 activation='relu',\n",
    "                 input_shape=(in_height, in_width, num_channels)))"
   ]
  },
  {
   "cell_type": "code",
   "execution_count": 12,
   "metadata": {},
   "outputs": [],
   "source": [
    "# Convolutional Layer 2\n",
    "model.add(Conv2D(filters=num_filters_2,\n",
    "                 kernel_size=(filter_height_2, filter_width_2),\n",
    "                 activation='relu'))"
   ]
  },
  {
   "cell_type": "markdown",
   "metadata": {},
   "source": [
    "## Camada de Subamostragem (ou em inglês, Pooling Layer)"
   ]
  },
  {
   "cell_type": "markdown",
   "metadata": {},
   "source": [
    "<div style=\"text-align:justify\">Reduz a dimensionalidade dos feature maps que serão utilizados pelas camadas seguintes, entretanto, sem perder as informações mais relevantes.  Desta forma,  podemos definir a camada de subamostragem como uma convolução que possui o objetivo de reduzir o tamanho espacial da representação, de forma a contribuir com a diminuição de quantidade de parâmetros e processamento computacional da rede.</div>\n",
    "<br>\n",
    "<div style=\"text-align:justify\">A função do Max-Pooling está em pegar o valor máximo dos elementos do feature maps presentes na janela $ 2x2 $ e agrupa-los como no exemplo abaixo:</div>"
   ]
  },
  {
   "cell_type": "markdown",
   "metadata": {},
   "source": [
    "![Max-Pooling](https://raw.githubusercontent.com/whoisraibolt/Convolutional-Neural-Network-MNIST/master/images/Max-Pooling.png)"
   ]
  },
  {
   "cell_type": "code",
   "execution_count": 13,
   "metadata": {},
   "outputs": [],
   "source": [
    "# This is 2x2 max-pooling, which means that we\n",
    "# consider 2x2 windows and select the largest value\n",
    "# in each window. Then we move 2 pixels to the next window\n",
    "model.add(MaxPooling2D(pool_size=(2, 2),\n",
    "                       strides=(2, 2)))"
   ]
  },
  {
   "cell_type": "code",
   "execution_count": 14,
   "metadata": {},
   "outputs": [],
   "source": [
    "# Dropout randomly switches off some neurons in\n",
    "# the network which forces the data to find new paths\n",
    "model.add(Dropout(0.25))"
   ]
  },
  {
   "cell_type": "markdown",
   "metadata": {},
   "source": [
    "## Camada de Flatten (ou em inglês, Flatten Layer)"
   ]
  },
  {
   "cell_type": "markdown",
   "metadata": {},
   "source": [
    "<div style=\"text-align:justify\">Após passar pelas camadas de convolução, ReLU e subamostragem a próxima etapa de uma CNN é a classificação, ou seja, é necessário passar pela camada totalmente conectada.  A camada totalmente conectada aceita apenas como entrada, dados de dimensão 1D.</div>\n",
    "<br>\n",
    "<div style=\"text-align:justify\">A camada Flatten possui o objetivo de \"achatar\" todo o volume de dados 3D em um único vetor 1D de características para posteriormente servir de entrada para a camada totalmente conectada.</div>"
   ]
  },
  {
   "cell_type": "code",
   "execution_count": 15,
   "metadata": {},
   "outputs": [],
   "source": [
    "# It allows the output to be processed by standard fully connected layers\n",
    "model.add(Flatten())"
   ]
  },
  {
   "cell_type": "markdown",
   "metadata": {},
   "source": [
    "## Camada totalmente conectada (ou em inglês, Fully Connected Layer)"
   ]
  },
  {
   "cell_type": "markdown",
   "metadata": {},
   "source": [
    "<div style=\"text-align:justify\">Essa camada age como um classificador, se localiza ao final da rede, geralmente é do tipo soft-max usado para classificar a imagem de entrada. Realiza tal tarefa ao reconhecer padrões que foram gerados pelas camadas anteriores. Portanto, estima a probabilidade de quais das $ n $ classes a imagem de entrada pertence.</div>"
   ]
  },
  {
   "cell_type": "code",
   "execution_count": 16,
   "metadata": {},
   "outputs": [],
   "source": [
    "# Fully-connected layer\n",
    "# Number of neurons in fully-connected layer\n",
    "fc_size = 128\n",
    "\n",
    "model.add(Dense(fc_size, activation='relu'))"
   ]
  },
  {
   "cell_type": "code",
   "execution_count": 17,
   "metadata": {},
   "outputs": [],
   "source": [
    "# Dropout randomly switches off some neurons in\n",
    "# the network which forces the data to find new paths\n",
    "model.add(Dropout(0.5))"
   ]
  },
  {
   "cell_type": "code",
   "execution_count": 18,
   "metadata": {},
   "outputs": [],
   "source": [
    "# Normalization of class-number output with 10 neurons (number of output classes)\n",
    "# and it uses softmax activation function.\n",
    "# Each neuron will give the probability of that class.\n",
    "#It’s a multi-class classification that’s why softmax activation function\n",
    "model.add(Dense(num_classes, activation='softmax'))"
   ]
  },
  {
   "cell_type": "code",
   "execution_count": 19,
   "metadata": {},
   "outputs": [],
   "source": [
    "# Define the type of loss function, optimizer and the\n",
    "# metrics evaluated by the model during training and test\n",
    "\n",
    "# Cross Entropy as a Loss function\n",
    "# The lower the loss, the better a model\n",
    "# The loss is calculated on training and its interperation is how well the model is doing for this one set\n",
    "# Loss is not a percentage. It is a summation of the errors made for each example in training  set\n",
    "\n",
    "# AdamOptimizer as optimizer\n",
    "# It is an optimization algorithm used to perform the update of weights\n",
    "# in an iterative way according to the training data set\n",
    "# Needs few memory requirements, in addition to being computationally efficient\n",
    "\n",
    "# and Accuracy as metrics to improve the performance of our neural network\n",
    "\n",
    "model.compile(loss=keras.losses.categorical_crossentropy,\n",
    "              optimizer=keras.optimizers.Adam(),\n",
    "              metrics=['accuracy'])"
   ]
  },
  {
   "cell_type": "code",
   "execution_count": 20,
   "metadata": {},
   "outputs": [
    {
     "name": "stdout",
     "output_type": "stream",
     "text": [
      "Epoch 1/12\n",
      "60000/60000 [==============================] - 27s 457us/step - loss: 1.7346 - acc: 0.8363\n",
      "Epoch 2/12\n",
      "60000/60000 [==============================] - 10s 163us/step - loss: 0.1262 - acc: 0.9625\n",
      "Epoch 3/12\n",
      "60000/60000 [==============================] - 10s 164us/step - loss: 0.0964 - acc: 0.9708\n",
      "Epoch 4/12\n",
      "60000/60000 [==============================] - 10s 162us/step - loss: 0.0776 - acc: 0.9761\n",
      "Epoch 5/12\n",
      "60000/60000 [==============================] - 10s 163us/step - loss: 0.0677 - acc: 0.9795\n",
      "Epoch 6/12\n",
      "60000/60000 [==============================] - 10s 165us/step - loss: 0.0610 - acc: 0.9808\n",
      "Epoch 7/12\n",
      "60000/60000 [==============================] - 10s 164us/step - loss: 0.0561 - acc: 0.9823\n",
      "Epoch 8/12\n",
      "60000/60000 [==============================] - 10s 164us/step - loss: 0.0486 - acc: 0.9849\n",
      "Epoch 9/12\n",
      "60000/60000 [==============================] - 10s 165us/step - loss: 0.0483 - acc: 0.9847\n",
      "Epoch 10/12\n",
      "60000/60000 [==============================] - 10s 164us/step - loss: 0.0437 - acc: 0.9860\n",
      "Epoch 11/12\n",
      "60000/60000 [==============================] - 10s 164us/step - loss: 0.0462 - acc: 0.9857\n",
      "Epoch 12/12\n",
      "60000/60000 [==============================] - 10s 163us/step - loss: 0.0404 - acc: 0.9871\n"
     ]
    }
   ],
   "source": [
    "# Training\n",
    "\n",
    "# Epoch:\n",
    "# One Epoch is when an ENTIRE dataset is passed forward\n",
    "# and backward through the neural network only ONCE\n",
    "\n",
    "# Batch Size:\n",
    "#Total number of training examples present in a single batch\n",
    "\n",
    "# Iterations:\n",
    "# Iterations is the number of batches needed to complete one epoch\n",
    "\n",
    "# Verbose:\n",
    "# Integer 0, 1, or 2\n",
    "# Verbosity mode: 0 = silent, 1 = progress bar, 2 = one line per epoch\n",
    "\n",
    "batch_size = 128\n",
    "epochs = 12\n",
    "\n",
    "history = model.fit(data_train_images, data_train_labels,\n",
    "                    batch_size=batch_size,\n",
    "                    epochs=epochs,\n",
    "                    verbose=1)"
   ]
  },
  {
   "cell_type": "markdown",
   "metadata": {},
   "source": [
    "## Google Cloud Platform"
   ]
  },
  {
   "cell_type": "markdown",
   "metadata": {},
   "source": [
    "<div style=\"text-align:justify\">Oferecida pelo Google, o GCP é um conjunto de ferramentas, soluções e serviços de computação em nuvem que atua na mesma infraestrutura central do Google, ao lado de seus produtos, como o YouTube e o seu próprio mecanismo de busca.</div>\n",
    "<br>\n",
    "<div style=\"text-align:justify\">O GCP disponibiliza uma série de soluções para processamento computacional, rede, armazenamento de dados, banco de dados escaláveis, exploração de dados, Internet das Coisas (em inglês,Internet of Things- IoT), ML, ferramentas de gerenciamento, monitoramento, registro, diagnósticos, entre outros.</div>\n",
    "<br>\n",
    "<div style=\"text-align:justify\">Este Notebook foi processado por  meio de uma instância de máquina virtual de alto desempenho na infraestrutura do Google - Google Compute Engine (GCE) - um componente Infraestrutura como Serviço (em inglês, Infrastructure as a Service- IaaS).</div>\n",
    "<br> \n",
    "<div style=\"text-align:justify\">O GCE é um recurso disponível na plataforma Google Cloud Platform (GCP). A instância de máquina virtual on demand é composta por uma GPU NVIDIA® Tesla® K80 com memória da GPU de 12GB GDDR5 e 8 vCPUs disponíveis, além de 16 GB de memória RAM e 50GB de HD e é acessada por meio da interface de linha de comandos.</div>"
   ]
  },
  {
   "cell_type": "code",
   "execution_count": 21,
   "metadata": {},
   "outputs": [
    {
     "name": "stdout",
     "output_type": "stream",
     "text": [
      "Test accuracy: 0.9894\n"
     ]
    }
   ],
   "source": [
    "# Test\n",
    "score = model.evaluate(data_test_images, data_test_labels, verbose=0)\n",
    "\n",
    "# Print test accuracy\n",
    "print('Test accuracy:', score[1])"
   ]
  },
  {
   "cell_type": "markdown",
   "metadata": {},
   "source": [
    "![Aplausos](https://github.com/whoisraibolt/Convolutional-Neural-Network-MNIST/blob/master/images/Aplausos-GIF.gif?raw=true)"
   ]
  },
  {
   "cell_type": "markdown",
   "metadata": {},
   "source": [
    "## Dicas:"
   ]
  },
  {
   "cell_type": "markdown",
   "metadata": {},
   "source": [
    "- [TensorFlow](https://www.tensorflow.org/ \"TensorFlow\");\n",
    "- [Keras](https://keras.rstudio.com/index.html \"Keras\");\n",
    "- [An Intuitive Explanation of Convolutional Neural Networks](https://ujjwalkarn.me/2016/08/11/intuitive-explanation-convnets \"An Intuitive Explanation of Convolutional Neural Networks\");\n",
    "- [Hvass-Labs](https://github.com/Hvass-Labs/TensorFlow-Tutorials \"Hvass-Labs\");\n",
    "- [How to set up Tensorflow with CUDA and cuDNN on a free Google Cloud instance](https://www.youtube.com/watch?v=abEf3wQJBmE \"How to set up Tensorflow with CUDA and cuDNN on a free Google Cloud instance\")."
   ]
  },
  {
   "cell_type": "markdown",
   "metadata": {},
   "source": [
    "## Leituras Recomendadas:"
   ]
  },
  {
   "cell_type": "markdown",
   "metadata": {},
   "source": [
    "- BEALE, Russell; JACKSON, Tom. [Neural Computing-an introduction](https://bayanbox.ir/view/7901640340179926235/Neural-Computing-An-Introduction.pdf \"Neural Computing-an introduction\"). CRC Press, 1990."
   ]
  },
  {
   "cell_type": "markdown",
   "metadata": {},
   "source": [
    "## Referências:"
   ]
  },
  {
   "cell_type": "markdown",
   "metadata": {},
   "source": [
    "- [Towards Data Science](https://towardsdatascience.com/build-your-own-convolution-neural-network-in-5-mins-4217c2cf964f \"Towards Data Science\");\n",
    "- [Hvass-Labs](https://github.com/Hvass-Labs/TensorFlow-Tutorials/blob/master/02_Convolutional_Neural_Network.ipynb \"Hvass-Labs\")."
   ]
  },
  {
   "cell_type": "markdown",
   "metadata": {},
   "source": [
    "# Distribuição MIT"
   ]
  },
  {
   "cell_type": "markdown",
   "metadata": {},
   "source": [
    "Código lançado sob a licença [MIT](https://github.com/whoisraibolt/Convolutional-Neural-Network-MNIST/blob/master/LICENSE \"MIT\")."
   ]
  }
 ],
 "metadata": {
  "kernelspec": {
   "display_name": "Python 3",
   "language": "python",
   "name": "python3"
  },
  "language_info": {
   "codemirror_mode": {
    "name": "ipython",
    "version": 3
   },
   "file_extension": ".py",
   "mimetype": "text/x-python",
   "name": "python",
   "nbconvert_exporter": "python",
   "pygments_lexer": "ipython3",
   "version": "3.5.2"
  }
 },
 "nbformat": 4,
 "nbformat_minor": 2
}
